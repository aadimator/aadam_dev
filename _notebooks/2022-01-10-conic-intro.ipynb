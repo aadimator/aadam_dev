{
 "cells": [
  {
   "cell_type": "markdown",
   "metadata": {},
   "source": [
    "# CoNIC Challenge - An Introduction\n",
    "> A general overview of the CoNIC challenge and the dataset.\n",
    "\n",
    "- toc: true \n",
    "- badges: true\n",
    "- comments: true\n",
    "- categories: [Jupyter, Deep Learning, Instance Segmentation, Dataset]\n",
    "- image: images/chart-preview.png\n",
    "- comments: true\n",
    "- hide: true\n",
    "- search_exclude: true"
   ]
  },
  {
   "cell_type": "markdown",
   "metadata": {},
   "source": []
  },
  {
   "cell_type": "markdown",
   "metadata": {},
   "source": []
  },
  {
   "cell_type": "markdown",
   "metadata": {},
   "source": []
  },
  {
   "cell_type": "code",
   "execution_count": null,
   "metadata": {},
   "outputs": [],
   "source": []
  }
 ],
 "metadata": {
  "interpreter": {
   "hash": "e0e5b1662f75a66eba33691f898d31ddf4ca082cd061a7597903c43cf4d03380"
  },
  "kernelspec": {
   "display_name": "Python 3.8.12 64-bit ('detectron': conda)",
   "language": "python",
   "name": "python3"
  },
  "language_info": {
   "name": "python",
   "version": "3.8.12"
  },
  "orig_nbformat": 4
 },
 "nbformat": 4,
 "nbformat_minor": 2
}
